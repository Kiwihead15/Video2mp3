{
 "cells": [
  {
   "cell_type": "markdown",
   "metadata": {},
   "source": [
    "# Youtube Downloader\n",
    "The script utilizes the pytube library (https://pytube.io/en/latest/) to download YouTube videos.\n",
    "Then it utilize moviepy library convert the mp4 audio-video file to mp3 audiofile "
   ]
  },
  {
   "cell_type": "markdown",
   "metadata": {},
   "source": [
    "! pip install pytube, moviepy"
   ]
  },
  {
   "cell_type": "markdown",
   "metadata": {},
   "source": [
    "- Import the pytube library, which provides tools for interacting with YouTube, and moviepy library, which converts mp4 to mp3 format."
   ]
  },
  {
   "cell_type": "code",
   "execution_count": 86,
   "metadata": {},
   "outputs": [],
   "source": [
    "from pytube import YouTube\n",
    "from moviepy.editor import *\n",
    "import os"
   ]
  },
  {
   "cell_type": "markdown",
   "metadata": {},
   "source": [
    "- Creates a YouTube object using the URL of the desired video: https://www.youtube.com/watch?v=IH0pAzAYn1g."
   ]
  },
  {
   "cell_type": "code",
   "execution_count": 263,
   "metadata": {},
   "outputs": [],
   "source": [
    "desired_video_URL= 'https://www.youtube.com/watch?v=2KBFD0aoZy8'"
   ]
  },
  {
   "cell_type": "code",
   "execution_count": 264,
   "metadata": {},
   "outputs": [],
   "source": [
    "yt = YouTube(desired_video_URL)"
   ]
  },
  {
   "cell_type": "markdown",
   "metadata": {},
   "source": [
    "## Downloading the first available stream:"
   ]
  },
  {
   "cell_type": "markdown",
   "metadata": {},
   "source": [
    "- It accesses the streams attribute of the YouTube object, which provides information about all available video streams for the specified video.\n",
    "- The first() method is called on the streams object, selecting the first available stream.\n",
    "- The download() method is called on the selected stream, initiating the download process. It returns the path to the downloaded file"
   ]
  },
  {
   "cell_type": "code",
   "execution_count": null,
   "metadata": {},
   "outputs": [],
   "source": [
    "# for direct download of first stream\n",
    "yt.streams.first().download()"
   ]
  },
  {
   "cell_type": "markdown",
   "metadata": {},
   "source": [
    "## Downloading the highest resolution MP4 stream by filtering streams:"
   ]
  },
  {
   "cell_type": "markdown",
   "metadata": {},
   "source": [
    "- It accesses the streams attribute of the YouTube object.\n",
    "\n",
    "- The filter() method is applied to the streams object, filtering the streams to only include progressive (non-DASH) streams with the .mp4 file extension.\n",
    "\n",
    "- The order_by('resolution') method is used to sort the filtered streams by resolution in descending order, ensuring the highest resolution stream is selected.\n",
    "\n",
    "- The first() method is called on the sorted streams, selecting the highest resolution MP4 stream.It returns the path to the downloaded file\n",
    "\n",
    "- Finally, the download() method is called on the selected stream, initiating the download process."
   ]
  },
  {
   "cell_type": "code",
   "execution_count": 265,
   "metadata": {},
   "outputs": [
    {
     "data": {
      "text/plain": [
       "<Stream: itag=\"22\" mime_type=\"video/mp4\" res=\"720p\" fps=\"30fps\" vcodec=\"avc1.64001F\" acodec=\"mp4a.40.2\" progressive=\"True\" type=\"video\">"
      ]
     },
     "execution_count": 265,
     "metadata": {},
     "output_type": "execute_result"
    }
   ],
   "source": [
    "yt.streams.filter(progressive=True, file_extension='mp4').order_by('resolution').desc().first()"
   ]
  },
  {
   "cell_type": "markdown",
   "metadata": {},
   "source": [
    "## Downloading only the highest resolution mp4 audio stream by filtering streams, then converts it to mp3 file format."
   ]
  },
  {
   "cell_type": "code",
   "execution_count": 266,
   "metadata": {},
   "outputs": [],
   "source": [
    "# Download the mp4 file\n",
    "downloaded_file = yt.streams.filter(progressive=True, file_extension='mp4').order_by('resolution').desc().first().download()"
   ]
  },
  {
   "cell_type": "code",
   "execution_count": 267,
   "metadata": {},
   "outputs": [
    {
     "name": "stdout",
     "output_type": "stream",
     "text": [
      "MoviePy - Writing audio in c:\\Users\\pbiosca\\AI\\Projects\\Video2mp3\\Ava Max - Sweet but Psycho (Lyrics).mp3\n"
     ]
    },
    {
     "name": "stderr",
     "output_type": "stream",
     "text": [
      "                                                                     "
     ]
    },
    {
     "name": "stdout",
     "output_type": "stream",
     "text": [
      "MoviePy - Done.\n",
      "Done\n"
     ]
    },
    {
     "name": "stderr",
     "output_type": "stream",
     "text": [
      "\r"
     ]
    }
   ],
   "source": [
    "# Load the mp4 file\n",
    "video = VideoFileClip(downloaded_file)\n",
    "\n",
    "# Extract audio from video\n",
    "base, ext = os.path.splitext(downloaded_file)\n",
    "new_file = base + '.mp3'\n",
    "video.audio.write_audiofile(new_file)\n",
    "print(\"Done\")"
   ]
  }
 ],
 "metadata": {
  "kernelspec": {
   "display_name": ".venv",
   "language": "python",
   "name": "python3"
  },
  "language_info": {
   "codemirror_mode": {
    "name": "ipython",
    "version": 3
   },
   "file_extension": ".py",
   "mimetype": "text/x-python",
   "name": "python",
   "nbconvert_exporter": "python",
   "pygments_lexer": "ipython3",
   "version": "3.8.5"
  }
 },
 "nbformat": 4,
 "nbformat_minor": 2
}
